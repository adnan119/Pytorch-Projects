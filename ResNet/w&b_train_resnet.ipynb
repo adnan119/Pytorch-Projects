{
  "nbformat": 4,
  "nbformat_minor": 0,
  "metadata": {
    "colab": {
      "name": "w&b_train_resnet.ipynb",
      "provenance": [],
      "machine_shape": "hm",
      "mount_file_id": "1dloAGHMKz5ukQPEa5fhR6rdwsjgIyLW3",
      "authorship_tag": "ABX9TyMqQfF7s4cuC9WCbx1WtGS9",
      "include_colab_link": true
    },
    "kernelspec": {
      "name": "python3",
      "display_name": "Python 3"
    },
    "language_info": {
      "name": "python"
    },
    "accelerator": "GPU"
  },
  "cells": [
    {
      "cell_type": "markdown",
      "metadata": {
        "id": "view-in-github",
        "colab_type": "text"
      },
      "source": [
        "<a href=\"https://colab.research.google.com/github/adnan119/Pytorch-Projects/blob/main/ResNet/w%26b_train_resnet.ipynb\" target=\"_parent\"><img src=\"https://colab.research.google.com/assets/colab-badge.svg\" alt=\"Open In Colab\"/></a>"
      ]
    },
    {
      "cell_type": "code",
      "metadata": {
        "id": "VO_1c858Jtv0",
        "colab": {
          "base_uri": "https://localhost:8080/"
        },
        "outputId": "ef0c6de5-5168-43a6-bf7f-c6b9a21e581c"
      },
      "source": [
        "%cd drive/My Drive/Pytorch-Projects/ResNet"
      ],
      "execution_count": 2,
      "outputs": [
        {
          "output_type": "stream",
          "name": "stdout",
          "text": [
            "/content/drive/My Drive/Pytorch-Projects/ResNet\n"
          ]
        }
      ]
    },
    {
      "cell_type": "code",
      "metadata": {
        "colab": {
          "base_uri": "https://localhost:8080/"
        },
        "id": "-JDu42-s4BU_",
        "outputId": "d5154f2f-e483-4b7b-dc2a-0de68628d1d5"
      },
      "source": [
        "!pip install wandb\n",
        "!wandb login"
      ],
      "execution_count": 4,
      "outputs": [
        {
          "output_type": "stream",
          "name": "stdout",
          "text": [
            "Collecting wandb\n",
            "  Downloading wandb-0.12.5-py2.py3-none-any.whl (1.7 MB)\n",
            "\u001b[K     |████████████████████████████████| 1.7 MB 5.3 MB/s \n",
            "\u001b[?25hRequirement already satisfied: python-dateutil>=2.6.1 in /usr/local/lib/python3.7/dist-packages (from wandb) (2.8.2)\n",
            "Requirement already satisfied: Click!=8.0.0,>=7.0 in /usr/local/lib/python3.7/dist-packages (from wandb) (7.1.2)\n",
            "Collecting sentry-sdk>=1.0.0\n",
            "  Downloading sentry_sdk-1.4.3-py2.py3-none-any.whl (139 kB)\n",
            "\u001b[K     |████████████████████████████████| 139 kB 48.7 MB/s \n",
            "\u001b[?25hCollecting docker-pycreds>=0.4.0\n",
            "  Downloading docker_pycreds-0.4.0-py2.py3-none-any.whl (9.0 kB)\n",
            "Collecting configparser>=3.8.1\n",
            "  Downloading configparser-5.0.2-py3-none-any.whl (19 kB)\n",
            "Collecting yaspin>=1.0.0\n",
            "  Downloading yaspin-2.1.0-py3-none-any.whl (18 kB)\n",
            "Requirement already satisfied: psutil>=5.0.0 in /usr/local/lib/python3.7/dist-packages (from wandb) (5.4.8)\n",
            "Requirement already satisfied: promise<3,>=2.0 in /usr/local/lib/python3.7/dist-packages (from wandb) (2.3)\n",
            "Requirement already satisfied: six>=1.13.0 in /usr/local/lib/python3.7/dist-packages (from wandb) (1.15.0)\n",
            "Collecting GitPython>=1.0.0\n",
            "  Downloading GitPython-3.1.24-py3-none-any.whl (180 kB)\n",
            "\u001b[K     |████████████████████████████████| 180 kB 47.0 MB/s \n",
            "\u001b[?25hCollecting pathtools\n",
            "  Downloading pathtools-0.1.2.tar.gz (11 kB)\n",
            "Requirement already satisfied: requests<3,>=2.0.0 in /usr/local/lib/python3.7/dist-packages (from wandb) (2.23.0)\n",
            "Collecting subprocess32>=3.5.3\n",
            "  Downloading subprocess32-3.5.4.tar.gz (97 kB)\n",
            "\u001b[K     |████████████████████████████████| 97 kB 6.4 MB/s \n",
            "\u001b[?25hRequirement already satisfied: protobuf>=3.12.0 in /usr/local/lib/python3.7/dist-packages (from wandb) (3.17.3)\n",
            "Requirement already satisfied: PyYAML in /usr/local/lib/python3.7/dist-packages (from wandb) (3.13)\n",
            "Collecting shortuuid>=0.5.0\n",
            "  Downloading shortuuid-1.0.1-py3-none-any.whl (7.5 kB)\n",
            "Collecting gitdb<5,>=4.0.1\n",
            "  Downloading gitdb-4.0.9-py3-none-any.whl (63 kB)\n",
            "\u001b[K     |████████████████████████████████| 63 kB 1.8 MB/s \n",
            "\u001b[?25hRequirement already satisfied: typing-extensions>=3.7.4.3 in /usr/local/lib/python3.7/dist-packages (from GitPython>=1.0.0->wandb) (3.7.4.3)\n",
            "Collecting smmap<6,>=3.0.1\n",
            "  Downloading smmap-5.0.0-py3-none-any.whl (24 kB)\n",
            "Requirement already satisfied: urllib3!=1.25.0,!=1.25.1,<1.26,>=1.21.1 in /usr/local/lib/python3.7/dist-packages (from requests<3,>=2.0.0->wandb) (1.24.3)\n",
            "Requirement already satisfied: idna<3,>=2.5 in /usr/local/lib/python3.7/dist-packages (from requests<3,>=2.0.0->wandb) (2.10)\n",
            "Requirement already satisfied: chardet<4,>=3.0.2 in /usr/local/lib/python3.7/dist-packages (from requests<3,>=2.0.0->wandb) (3.0.4)\n",
            "Requirement already satisfied: certifi>=2017.4.17 in /usr/local/lib/python3.7/dist-packages (from requests<3,>=2.0.0->wandb) (2021.5.30)\n",
            "Requirement already satisfied: termcolor<2.0.0,>=1.1.0 in /usr/local/lib/python3.7/dist-packages (from yaspin>=1.0.0->wandb) (1.1.0)\n",
            "Building wheels for collected packages: subprocess32, pathtools\n",
            "  Building wheel for subprocess32 (setup.py) ... \u001b[?25l\u001b[?25hdone\n",
            "  Created wheel for subprocess32: filename=subprocess32-3.5.4-py3-none-any.whl size=6502 sha256=00414e906eb889d903d447434c3b4e2d2b186cc6e942eef8dc054df58e9e1dfd\n",
            "  Stored in directory: /root/.cache/pip/wheels/50/ca/fa/8fca8d246e64f19488d07567547ddec8eb084e8c0d7a59226a\n",
            "  Building wheel for pathtools (setup.py) ... \u001b[?25l\u001b[?25hdone\n",
            "  Created wheel for pathtools: filename=pathtools-0.1.2-py3-none-any.whl size=8807 sha256=f078dde4b1f9a9cbaf047fbfe47e0d5d6f386dee151653f1b1404c76b09417fc\n",
            "  Stored in directory: /root/.cache/pip/wheels/3e/31/09/fa59cef12cdcfecc627b3d24273699f390e71828921b2cbba2\n",
            "Successfully built subprocess32 pathtools\n",
            "Installing collected packages: smmap, gitdb, yaspin, subprocess32, shortuuid, sentry-sdk, pathtools, GitPython, docker-pycreds, configparser, wandb\n",
            "Successfully installed GitPython-3.1.24 configparser-5.0.2 docker-pycreds-0.4.0 gitdb-4.0.9 pathtools-0.1.2 sentry-sdk-1.4.3 shortuuid-1.0.1 smmap-5.0.0 subprocess32-3.5.4 wandb-0.12.5 yaspin-2.1.0\n",
            "\u001b[34m\u001b[1mwandb\u001b[0m: You can find your API key in your browser here: https://wandb.ai/authorize\n",
            "\u001b[34m\u001b[1mwandb\u001b[0m: Paste an API key from your profile and hit enter: \n",
            "\u001b[34m\u001b[1mwandb\u001b[0m: Appending key for api.wandb.ai to your netrc file: /root/.netrc\n"
          ]
        }
      ]
    },
    {
      "cell_type": "code",
      "metadata": {
        "id": "9WDnOsK0SN6x"
      },
      "source": [
        "# from copy_resnet import test_1\n",
        "import torch\n",
        "import torch.nn as nn\n",
        "import torchvision\n",
        "import torchvision.transforms as transforms\n",
        "import torch.optim as optim\n",
        "from torch.optim import lr_scheduler\n",
        "import matplotlib.pyplot as plt\n",
        "import numpy as np\n",
        "\n",
        "from resnet import ResNet101\n",
        "\n",
        "import wandb"
      ],
      "execution_count": 5,
      "outputs": []
    },
    {
      "cell_type": "code",
      "metadata": {
        "colab": {
          "base_uri": "https://localhost:8080/",
          "height": 472
        },
        "id": "u8VQpF964qY5",
        "outputId": "a5797ad9-c144-4dfb-beb0-5294651b825f"
      },
      "source": [
        "wandb.init(project=\"training-resnet-101\")"
      ],
      "execution_count": 6,
      "outputs": [
        {
          "output_type": "stream",
          "name": "stderr",
          "text": [
            "\u001b[34m\u001b[1mwandb\u001b[0m: Currently logged in as: \u001b[33madnanpen\u001b[0m (use `wandb login --relogin` to force relogin)\n"
          ]
        },
        {
          "output_type": "display_data",
          "data": {
            "text/html": [
              "\n",
              "                    Syncing run <strong><a href=\"https://wandb.ai/adnanpen/training-resnet-101/runs/1pg7xox2\" target=\"_blank\">dark-leaf-1</a></strong> to <a href=\"https://wandb.ai/adnanpen/training-resnet-101\" target=\"_blank\">Weights & Biases</a> (<a href=\"https://docs.wandb.com/integrations/jupyter.html\" target=\"_blank\">docs</a>).<br/>\n",
              "\n",
              "                "
            ],
            "text/plain": [
              "<IPython.core.display.HTML object>"
            ]
          },
          "metadata": {}
        },
        {
          "output_type": "execute_result",
          "data": {
            "text/plain": [
              "<wandb.sdk.wandb_run.Run at 0x7f9833450790>"
            ],
            "text/html": [
              "<button onClick=\"this.nextSibling.style.display='block';this.style.display='none';\">Display W&B run</button><iframe src=\"https://wandb.ai/adnanpen/training-resnet-101/runs/1pg7xox2?jupyter=true\" style=\"border:none;width:100%;height:420px;display:none;\"></iframe>"
            ]
          },
          "metadata": {},
          "execution_count": 6
        }
      ]
    },
    {
      "cell_type": "markdown",
      "metadata": {
        "id": "1-vk5bqpIIOh"
      },
      "source": [
        "# **1.Loading Dataset**"
      ]
    },
    {
      "cell_type": "code",
      "metadata": {
        "id": "TyUCLV8xX2tL"
      },
      "source": [
        "#defining transforms\n",
        "transform = transforms.Compose(\n",
        "    [transforms.ToTensor(),\n",
        "     transforms.Normalize((0.4914, 0.4822, 0.4465), (0.2023, 0.1994, 0.2010)),\n",
        "    #  transforms.CenterCrop(100),\n",
        "    #  transforms.RandomPerspective(p=0.5),\n",
        "     transforms.RandomHorizontalFlip(p=0.5)])\n",
        "\n",
        "test_transform = transforms.Compose(\n",
        "    [transforms.ToTensor(),\n",
        "     transforms.Normalize((0.4914, 0.4822, 0.4465), (0.2023, 0.1994, 0.2010))]\n",
        ")"
      ],
      "execution_count": 8,
      "outputs": []
    },
    {
      "cell_type": "code",
      "metadata": {
        "colab": {
          "base_uri": "https://localhost:8080/"
        },
        "id": "rmscDkNjGZuR",
        "outputId": "c1f5dc97-4174-4aa8-b141-77965fd9c232"
      },
      "source": [
        "#defining dataset and dataloaders\n",
        "\n",
        "batch_size = 512\n",
        "\n",
        "trainset = torchvision.datasets.CIFAR10(root='./data', train=True,\n",
        "                                        download=True, transform=transform)\n",
        "testset = torchvision.datasets.CIFAR10(root='./data', train=False,\n",
        "                                       download=True, transform=test_transform)\n",
        "\n",
        "\n",
        "trainloader = torch.utils.data.DataLoader(trainset, batch_size=batch_size,\n",
        "                                          shuffle=True, num_workers=2)\n",
        "testloader = torch.utils.data.DataLoader(testset, batch_size=64,\n",
        "                                         shuffle=False, num_workers=2)\n",
        "\n",
        "\n",
        "classes = ('plane', 'car', 'bird', 'cat',\n",
        "           'deer', 'dog', 'frog', 'horse', 'ship', 'truck')"
      ],
      "execution_count": 9,
      "outputs": [
        {
          "output_type": "stream",
          "name": "stdout",
          "text": [
            "Files already downloaded and verified\n",
            "Files already downloaded and verified\n"
          ]
        }
      ]
    },
    {
      "cell_type": "code",
      "metadata": {
        "colab": {
          "base_uri": "https://localhost:8080/",
          "height": 304
        },
        "id": "al6QD0PvG6AS",
        "outputId": "36aecb33-f31c-4977-facf-577f8f06c87c"
      },
      "source": [
        "# functions to show an image\n",
        "\n",
        "\n",
        "def imshow(img):\n",
        "    img = img / 2 + 0.5     # unnormalize\n",
        "    npimg = img.numpy()\n",
        "    plt.imshow(np.transpose(npimg, (1, 2, 0)))\n",
        "    plt.show()\n",
        "\n",
        "\n",
        "# get some random training images\n",
        "dataiter = iter(trainloader)\n",
        "images, labels = dataiter.next()\n",
        "\n",
        "# show images\n",
        "imshow(torchvision.utils.make_grid(images))\n",
        "# print labels\n",
        "print(' '.join('%5s' % classes[labels[j]] for j in range(4)))\n"
      ],
      "execution_count": 10,
      "outputs": [
        {
          "output_type": "stream",
          "name": "stderr",
          "text": [
            "Clipping input data to the valid range for imshow with RGB data ([0..1] for floats or [0..255] for integers).\n"
          ]
        },
        {
          "output_type": "display_data",
          "data": {
            "image/png": "[encoded data removed]",
            "text/plain": [
              "<Figure size 432x288 with 1 Axes>"
            ]
          },
          "metadata": {
            "needs_background": "light"
          }
        },
        {
          "output_type": "stream",
          "name": "stdout",
          "text": [
            "plane   car   cat  frog\n"
          ]
        }
      ]
    },
    {
      "cell_type": "markdown",
      "metadata": {
        "id": "evR_E8FpIPU3"
      },
      "source": [
        "# **2. Defining the model**"
      ]
    },
    {
      "cell_type": "code",
      "metadata": {
        "id": "wCHJhTh_3Ezz"
      },
      "source": [
        "resume = False"
      ],
      "execution_count": 11,
      "outputs": []
    },
    {
      "cell_type": "code",
      "metadata": {
        "colab": {
          "base_uri": "https://localhost:8080/"
        },
        "id": "aWmqZrmNTKyl",
        "outputId": "df0e7eaa-3e4a-414d-a221-36781fe87a44"
      },
      "source": [
        "model = ResNet101()\n",
        "if resume:\n",
        "  checkpoint = torch.load('r101_cifar10.pt')\n",
        "  model.load_state_dict(checkpoint)\n",
        "model.cuda()\n",
        "params = list(model.parameters())\n",
        "print(len(params))\n",
        "print(params[17].size())"
      ],
      "execution_count": 12,
      "outputs": [
        {
          "output_type": "stream",
          "name": "stdout",
          "text": [
            "351\n",
            "torch.Size([64, 256, 1, 1])\n"
          ]
        }
      ]
    },
    {
      "cell_type": "code",
      "metadata": {
        "id": "6ym6jtPu4BuL"
      },
      "source": [
        "print(model)"
      ],
      "execution_count": null,
      "outputs": []
    },
    {
      "cell_type": "markdown",
      "metadata": {
        "id": "Qy_yFM_GIZ3O"
      },
      "source": [
        "# **3. Loss function and optimizer**"
      ]
    },
    {
      "cell_type": "code",
      "metadata": {
        "id": "GzX29XQeHkRy"
      },
      "source": [
        "criterion = nn.CrossEntropyLoss()\n",
        "optimizer = optim.Adam(model.parameters(), lr=0.1)\n",
        "lrsheduler = lr_scheduler.StepLR(optimizer, step_size=20, gamma=0.1)"
      ],
      "execution_count": 14,
      "outputs": []
    },
    {
      "cell_type": "code",
      "metadata": {
        "colab": {
          "base_uri": "https://localhost:8080/"
        },
        "id": "5UXBzuRw8PB0",
        "outputId": "460d68dd-8a72-4971-abba-0495e6ab4ce0"
      },
      "source": [
        "wandb.watch(model, criterion, log=\"all\", log_freq=10)"
      ],
      "execution_count": 15,
      "outputs": [
        {
          "output_type": "execute_result",
          "data": {
            "text/plain": [
              "[]"
            ]
          },
          "metadata": {},
          "execution_count": 15
        }
      ]
    },
    {
      "cell_type": "code",
      "metadata": {
        "id": "uiYZ7VjA5B18"
      },
      "source": [
        "wandb.config = {\"learning_rate\": 0.1, \"epochs\": 25, \"batch_size\": 512, 'lr_scheduler': \"StepLR\", \"step_size\":20}"
      ],
      "execution_count": 7,
      "outputs": []
    },
    {
      "cell_type": "markdown",
      "metadata": {
        "id": "SzwANrDCU_Dz"
      },
      "source": [
        "# **4. Train the network**"
      ]
    },
    {
      "cell_type": "code",
      "metadata": {
        "colab": {
          "base_uri": "https://localhost:8080/"
        },
        "id": "RzuFtQhXUoZ3",
        "outputId": "8e3cbd68-cb0d-44ab-d5fd-ceba654e87e8"
      },
      "source": [
        "epochs = 25\n",
        "test_loss_min = np.Inf\n",
        "test_loss = 0\n",
        "total = 0\n",
        "correct = 0\n",
        "\n",
        "for epoch in range(epochs):  # loop over the dataset multiple times\n",
        "\n",
        "    running_loss = 0.0\n",
        "    print(lrsheduler.get_lr())\n",
        "    model.train()\n",
        "    for i, data in enumerate(trainloader, 0):\n",
        "        # get the inputs; data is a list of [inputs, labels]\n",
        "        inputs, labels = data\n",
        "        inputs, labels = inputs.cuda(), labels.cuda()\n",
        "\n",
        "        # zero the parameter gradients\n",
        "        optimizer.zero_grad()\n",
        "\n",
        "        # forward + backward + optimize\n",
        "        outputs = model(inputs)\n",
        "        loss = criterion(outputs, labels)\n",
        "        loss.backward()\n",
        "        optimizer.step()\n",
        "        # print statistics\n",
        "        running_loss += loss.item()\n",
        "        if i+1 % 2000 == 0:    # print every 2000 mini-batches\n",
        "            print('[%d, %5d] loss: %.3f' %\n",
        "                  (epoch + 1, i + 1, running_loss / 2000))\n",
        "            wandb.log({\"epoch\": epoch, \"loss\": running_loss / 2000})\n",
        "            running_loss = 0.0\n",
        "\n",
        "    model.eval()\n",
        "    for i, data in enumerate(testloader, 0):\n",
        "        # get the inputs; data is a list of [inputs, labels]\n",
        "        inputs, labels = data\n",
        "        inputs, labels = inputs.to('cuda'), labels.to('cuda')\n",
        "\n",
        "        outputs = model.forward(inputs)\n",
        "        loss = criterion(outputs, labels)\n",
        "\n",
        "        test_loss += loss.item()*inputs.size(0)\n",
        "        _, predicted = torch.max(outputs.data, 1)\n",
        "        total += labels.size(0)\n",
        "        correct += (predicted == labels).sum().item()\n",
        "        \n",
        "    lrsheduler.step()\n",
        "    test_loss = test_loss/len(testloader.dataset)\n",
        "    _correct = (correct*100)/total\n",
        "    wandb.log({\"test_accuracy\": _correct, \"test_loss\": test_loss})\n",
        "\n",
        "\n",
        "    print('Epoch: {} \\tTest Loss: {:.6f} \\tAccuracy: {:.6f}'.format(\n",
        "        epoch, test_loss, _correct))\n",
        "    \n",
        "    if test_loss <= test_loss_min:\n",
        "        print('test loss decreased ({:.6f} --> {:.6f}).  Saving model ...'.format(\n",
        "        test_loss_min,\n",
        "        test_loss))\n",
        "        \n",
        "    #to save the check-points\n",
        "        \n",
        "        torch.save(model.state_dict(), 'r101_cifar10.pt')\n",
        "        test_loss_min = test_loss\n",
        "    \n",
        "\n",
        "\n",
        "print('Finished Training')"
      ],
      "execution_count": 17,
      "outputs": [
        {
          "output_type": "stream",
          "name": "stdout",
          "text": [
            "[0.1]\n"
          ]
        },
        {
          "output_type": "stream",
          "name": "stderr",
          "text": [
            "/usr/local/lib/python3.7/dist-packages/torch/optim/lr_scheduler.py:370: UserWarning: To get the last learning rate computed by the scheduler, please use `get_last_lr()`.\n",
            "  \"please use `get_last_lr()`.\", UserWarning)\n",
            "/usr/local/lib/python3.7/dist-packages/torch/nn/functional.py:718: UserWarning: Named tensors and all their associated APIs are an experimental feature and subject to change. Please do not use them for anything important until they are released as stable. (Triggered internally at  /pytorch/c10/core/TensorImpl.h:1156.)\n",
            "  return torch.max_pool2d(input, kernel_size, stride, padding, dilation, ceil_mode)\n"
          ]
        },
        {
          "output_type": "stream",
          "name": "stdout",
          "text": [
            "Epoch: 0 \tTest Loss: 2.836526 \tAccuracy: 11.000000\n",
            "test loss decreased (inf --> 2.836526).  Saving model ...\n",
            "[0.1]\n",
            "Epoch: 1 \tTest Loss: 2.014956 \tAccuracy: 15.240000\n",
            "test loss decreased (2.836526 --> 2.014956).  Saving model ...\n",
            "[0.1]\n",
            "Epoch: 2 \tTest Loss: 1.891245 \tAccuracy: 18.456667\n",
            "test loss decreased (2.014956 --> 1.891245).  Saving model ...\n",
            "[0.1]\n",
            "Epoch: 3 \tTest Loss: 1.640497 \tAccuracy: 23.535000\n",
            "test loss decreased (1.891245 --> 1.640497).  Saving model ...\n",
            "[0.1]\n",
            "Epoch: 4 \tTest Loss: 1.486815 \tAccuracy: 27.892000\n",
            "test loss decreased (1.640497 --> 1.486815).  Saving model ...\n",
            "[0.1]\n",
            "Epoch: 5 \tTest Loss: 1.384226 \tAccuracy: 31.460000\n",
            "test loss decreased (1.486815 --> 1.384226).  Saving model ...\n",
            "[0.1]\n",
            "Epoch: 6 \tTest Loss: 1.338214 \tAccuracy: 34.380000\n",
            "test loss decreased (1.384226 --> 1.338214).  Saving model ...\n",
            "[0.1]\n",
            "Epoch: 7 \tTest Loss: 1.335864 \tAccuracy: 36.606250\n",
            "test loss decreased (1.338214 --> 1.335864).  Saving model ...\n",
            "[0.1]\n",
            "Epoch: 8 \tTest Loss: 1.778372 \tAccuracy: 37.347778\n",
            "[0.1]\n",
            "Epoch: 9 \tTest Loss: 1.182958 \tAccuracy: 39.420000\n",
            "test loss decreased (1.335864 --> 1.182958).  Saving model ...\n",
            "[0.1]\n",
            "Epoch: 10 \tTest Loss: 1.120385 \tAccuracy: 41.360909\n",
            "test loss decreased (1.182958 --> 1.120385).  Saving model ...\n",
            "[0.1]\n",
            "Epoch: 11 \tTest Loss: 1.078339 \tAccuracy: 43.110000\n",
            "test loss decreased (1.120385 --> 1.078339).  Saving model ...\n",
            "[0.1]\n",
            "Epoch: 12 \tTest Loss: 1.095785 \tAccuracy: 44.602308\n",
            "[0.1]\n",
            "Epoch: 13 \tTest Loss: 1.020719 \tAccuracy: 46.017857\n",
            "test loss decreased (1.078339 --> 1.020719).  Saving model ...\n",
            "[0.1]\n",
            "Epoch: 14 \tTest Loss: 1.031984 \tAccuracy: 47.326000\n",
            "[0.1]\n",
            "Epoch: 15 \tTest Loss: 0.994592 \tAccuracy: 48.555625\n",
            "test loss decreased (1.020719 --> 0.994592).  Saving model ...\n",
            "[0.1]\n",
            "Epoch: 16 \tTest Loss: 0.900314 \tAccuracy: 49.798824\n",
            "test loss decreased (0.994592 --> 0.900314).  Saving model ...\n",
            "[0.1]\n",
            "Epoch: 17 \tTest Loss: 1.303263 \tAccuracy: 50.650556\n",
            "[0.1]\n",
            "Epoch: 18 \tTest Loss: 0.953149 \tAccuracy: 51.535789\n",
            "[0.1]\n",
            "Epoch: 19 \tTest Loss: 0.911344 \tAccuracy: 52.471000\n",
            "[0.0010000000000000002]\n",
            "Epoch: 20 \tTest Loss: 1.031675 \tAccuracy: 53.548095\n",
            "[0.010000000000000002]\n",
            "Epoch: 21 \tTest Loss: 0.770174 \tAccuracy: 54.535455\n",
            "test loss decreased (0.900314 --> 0.770174).  Saving model ...\n",
            "[0.010000000000000002]\n",
            "Epoch: 22 \tTest Loss: 0.787422 \tAccuracy: 55.429130\n",
            "[0.010000000000000002]\n",
            "Epoch: 23 \tTest Loss: 0.795733 \tAccuracy: 56.255417\n",
            "[0.010000000000000002]\n",
            "Epoch: 24 \tTest Loss: 0.812199 \tAccuracy: 57.019200\n",
            "Finished Training\n"
          ]
        }
      ]
    },
    {
      "cell_type": "markdown",
      "metadata": {
        "id": "zxYuTSJUiZQK"
      },
      "source": [
        "# **5. Testing the network**"
      ]
    },
    {
      "cell_type": "code",
      "metadata": {
        "id": "wLA4xvJrbAU3"
      },
      "source": [
        ""
      ],
      "execution_count": null,
      "outputs": []
    }
  ]
}