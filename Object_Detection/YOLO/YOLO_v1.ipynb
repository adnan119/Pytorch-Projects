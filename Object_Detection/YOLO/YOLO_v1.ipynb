{
  "nbformat": 4,
  "nbformat_minor": 0,
  "metadata": {
    "colab": {
      "name": "YOLO v1.ipynb",
      "provenance": [],
      "authorship_tag": "ABX9TyOuUImmBO4a09t+LGoL91HW",
      "include_colab_link": true
    },
    "kernelspec": {
      "name": "python3",
      "display_name": "Python 3"
    },
    "language_info": {
      "name": "python"
    }
  },
  "cells": [
    {
      "cell_type": "markdown",
      "metadata": {
        "id": "view-in-github",
        "colab_type": "text"
      },
      "source": [
        "<a href=\"https://colab.research.google.com/github/adnan119/Pytorch-Projects/blob/main/Object_Detection/YOLO/YOLO_v1.ipynb\" target=\"_parent\"><img src=\"https://colab.research.google.com/assets/colab-badge.svg\" alt=\"Open In Colab\"/></a>"
      ]
    },
    {
      "cell_type": "code",
      "execution_count": 1,
      "metadata": {
        "id": "xYgNKDF_xdeU"
      },
      "outputs": [],
      "source": [
        "import torch\n",
        "import torch.nn as nn\n",
        "import os\n",
        "import pandas as pd\n",
        "from PIL import Image"
      ]
    },
    {
      "cell_type": "code",
      "source": [
        "architecture_config = [\n",
        "                       #format: (kernel_size, num_filters, stride, padding)\n",
        "                       (7, 64, 2, 3),\n",
        "                       \"M\",\n",
        "                       (3, 192, 1, 1),\n",
        "                       \"M\",\n",
        "                       (3, 128, 1, 0),\n",
        "                       (1, 256, 1, 1),\n",
        "                       (3, 256, 1, 0),\n",
        "                       (1, 512, 1, 1),\n",
        "                       \"M\",\n",
        "                       [(1, 256, 1, 0),(3, 512, 1, 1), 4], # 4 = no. of times these two tuples should be repeated\n",
        "                       (1, 512, 1, 0),\n",
        "                       (3, 1024, 1, 1),\n",
        "                       \"M\",\n",
        "                       [(1, 512, 1, 0), (3, 1024, 1, 1), 2],\n",
        "                       (3, 1024, 1, 1),\n",
        "                       (3, 1024, 2, 1),\n",
        "                       (3, 1024, 1, 1),\n",
        "                       (3, 1024, 1, 1),\n",
        "]"
      ],
      "metadata": {
        "id": "XV6JS0hf2E-c"
      },
      "execution_count": 2,
      "outputs": []
    },
    {
      "cell_type": "code",
      "source": [
        "class CNNBlock(nn.Module):\n",
        "  def __init__(self, in_channels, out_channels, **kwargs):\n",
        "    super(CNNBlock, self).__init__()\n",
        "    self.conv = nn.Conv2d(in_channels, out_channels, bias = False, **kwargs)\n",
        "    self.batchnorm = nn.BatchNorm2d(out_channels)\n",
        "    self.leakyrelu = nn.LeakyReLU(0.1)\n",
        "\n",
        "  def forward(self, x):\n",
        "    return self.leakyrelu(self.batchnorm(self.conv(x)))"
      ],
      "metadata": {
        "id": "TrKwmuBX5C0p"
      },
      "execution_count": 3,
      "outputs": []
    },
    {
      "cell_type": "code",
      "source": [
        "class yolov1(nn.Module):\n",
        "  def __init__(self, in_channels=3, **kwargs):\n",
        "    super(yolov1, self).__init__()\n",
        "    self.architecture = architecture_config\n",
        "    self.in_channels = in_channels\n",
        "    self.darknet = self._create_conv_layers(self.architecture)\n",
        "    self.fcs = self._create_fcs(**kwargs)\n",
        "\n",
        "  def forward(self, x):\n",
        "    x = self.darknet(x)\n",
        "    return self.fcs(torch.flatten(x, start_dim=1))\n",
        "\n",
        "  def _create_conv_layers(self, architecture):\n",
        "    layers = []\n",
        "    in_channels = self.in_channels\n",
        "\n",
        "    for x in architecture:\n",
        "      if type(x) == tuple:\n",
        "        layers += [\n",
        "                   CNNBlock(in_channels, \n",
        "                            x[1], \n",
        "                            kernel_size = x[0], \n",
        "                            stride = x[2], \n",
        "                            padding = x[3])\n",
        "                  ]\n",
        "        in_channels = x[1]\n",
        "\n",
        "      elif type(x) == str:\n",
        "        layers += [nn.MaxPool2d(kernel_size=2, stride = 2)]\n",
        "      elif type(x) == list:\n",
        "        conv_1 = x[0]\n",
        "        conv_2 = x[1]\n",
        "        num_repeats = x[2]\n",
        "\n",
        "        for i in range(num_repeats):\n",
        "          layers += [\n",
        "                     CNNBlock(in_channels,\n",
        "                              conv_1[1],\n",
        "                              kernel_size = conv_1[0],\n",
        "                              stride = conv_1[2],\n",
        "                              padding = conv_1[3]),\n",
        "                     CNNBlock(conv_1[1],\n",
        "                              conv_2[1],\n",
        "                              kernel_size = conv_2[0],\n",
        "                              stride = conv_2[2],\n",
        "                              padding = conv_2[3])\n",
        "          ]\n",
        "\n",
        "          in_channels = conv_2[1]\n",
        "    return nn.Sequential(*layers)\n",
        "\n",
        "  def _create_fcs(self, split_size, num_boxes, num_classes):\n",
        "    S, B, C = split_size, num_boxes, num_classes\n",
        "    return nn.Sequential(\n",
        "        nn.Flatten(),\n",
        "        nn.Linear(1024 * S * S, 512),\n",
        "        nn.Dropout(0.0),\n",
        "        nn.LeakyReLU(0.1),\n",
        "        nn.Linear(512, S * S *(C + B * 5)),\n",
        "    )"
      ],
      "metadata": {
        "id": "2BGHU1bcwW2t"
      },
      "execution_count": 4,
      "outputs": []
    },
    {
      "cell_type": "code",
      "source": [
        "def test(S = 7, B = 2, C = 20):\n",
        "  model = yolov1(split_size = S, num_boxes = B, num_classes = C)\n",
        "  x = torch.randn((2, 3, 448, 448))\n",
        "  print(model(x).shape)"
      ],
      "metadata": {
        "id": "sq-ExhSo6EEt"
      },
      "execution_count": 5,
      "outputs": []
    },
    {
      "cell_type": "code",
      "source": [
        "test()"
      ],
      "metadata": {
        "colab": {
          "base_uri": "https://localhost:8080/"
        },
        "id": "TMKNJIVWhpKO",
        "outputId": "cd4a9ab7-ad1f-44ae-b2b8-f78159200a5d"
      },
      "execution_count": 6,
      "outputs": [
        {
          "output_type": "stream",
          "name": "stdout",
          "text": [
            "torch.Size([2, 1470])\n"
          ]
        }
      ]
    },
    {
      "cell_type": "code",
      "source": [
        "class yololoss(nn.Module):\n",
        "  def __init__(self, S = 7, B = 2, C = 20):\n",
        "    super(yololoss, self).__init__()\n",
        "    self.S = S\n",
        "    self.B = B\n",
        "    self.C = C\n",
        "    self.lambda_coord = 5\n",
        "    self.lambda_noobj = 0.5\n",
        "\n",
        "  def forward(self, prediction, target):\n",
        "    prediction = prediction.reshape(-1, self.S, self.S, self.C + self.B*5)\n",
        "\n",
        "    iou_b1 = intersection_over_union(prediction[...,21:25], target[...,21:25])\n",
        "    iou_b2 = intersection_over_union(prediction[...,26:30], target[...,21:25])\n",
        "\n",
        "    ious = torch.cat([iou_b1.unsqueeze(0),iou_b2.unsqueeze(0)], dim =0)\n",
        "    iou_maxes, best_box = torch.max(ious, dim=0)\n",
        "    exists_box = target[..., 20].unsqueeze(3) #Iobj_i\n",
        " \n",
        "    ####  BOX LOSS  ####\n",
        "    #Box-Coordinates (mid-point, width & height)\n",
        "    box_predictions = exists_box * (\n",
        "        (\n",
        "            best_box * prediction[...,26:30]\n",
        "            + (1 - best_box) * prediction[...,21:25]\n",
        "        )\n",
        "    )\n",
        "\n",
        "    box_targets = exists_box * target[...,21:25]\n",
        "\n",
        "    box_predictions[..., 2:4] = torch.sign(box_predictions[..., 2:4]) * torch.sqrt(\n",
        "        torch.abs(box_predictions[..., 2:4] + 1e-6)\n",
        "    )\n",
        "    \n",
        "    #box dimensions: (N, S, S, 25)\n",
        "    box_targets[..., 2:4] = torch.sqrt(box_targets[..., 2:4])\n",
        "    #(N, S, S, 4) -> (N*S*S, 4)\n",
        "    box_loss = self.mse(torch.flatten(box_predictions, end_dim=-2),\n",
        "                        torch.flatten(box_targets, end_dim=-2),\n",
        "                        )\n",
        "    \n",
        "    #### OBJECT LOSS ####\n",
        "    pred_box = (\n",
        "        best_box * prediction[..., 25:26] + (1 - best_box) * prediction[...,20:21]\n",
        "    )\n",
        "    # (N,S,S,1) -> (N*S*S*1)\n",
        "    object_loss = self.mse(\n",
        "        torch.flatten(exists_box * pred_box),\n",
        "        torch.flatten(exists_box * target[...,20:21])\n",
        "    )\n",
        "\n",
        "    #### NO-OBJECT LOSS ####\n",
        "    #(N, S, S, 1) -> (N, S*S*1)\n",
        "    no_object_loss = self.mse(\n",
        "        torch.flatten((1 - exists_box) * prediction[..., 20:21], start_dim=1),\n",
        "        torch.flatten((1 - exists_box) * target[..., 20:21], start_dim=1),\n",
        "    )\n",
        "\n",
        "    no_object_loss = self.mse(\n",
        "        torch.flatten((1 - exists_box) * prediction[..., 25:26], start_dim=1),\n",
        "        torch.flatten((1 - exists_box) * target[..., 20:21], start_dim=1),\n",
        "    )\n",
        "\n",
        "    class_loss = self.mse(\n",
        "        torch.flatten(exists_box * prediction[...,:20], end_dim = -2),\n",
        "        torch.flatten(exists_box * target[...,:20], end_dim = -2)\n",
        "    )\n",
        "\n",
        "    loss = (\n",
        "        self.lambda_coord * box_loss \n",
        "        + object_loss\n",
        "        + self.lambda_noobj * no_object_loss\n",
        "        + class_loss\n",
        "    )\n",
        "\n",
        "    return loss"
      ],
      "metadata": {
        "id": "FTRGQE8Yhu0X"
      },
      "execution_count": 7,
      "outputs": []
    },
    {
      "cell_type": "code",
      "source": [
        "class COTSDataset(torch.utils.data.Dataset):\n",
        "  def __init__(self, csv_file, img_dir, label_dir,\n",
        "               S=7, B=2, C=20, transform=None):\n",
        "    self.annotations = pd.read_csv(csv_file)\n",
        "    self.img_dir = img_dir\n",
        "    self.label_dir = label_dir\n",
        "    self.transform = transform\n",
        "    self.S = S\n",
        "    self.C = C\n",
        "    self.B = B\n",
        "\n",
        "  def __len__(self):\n",
        "    return len(self.annotations)\n",
        "\n",
        "  def __getitem__(self, index):\n",
        "    label_path = os.path.join(self.label_dir, self.annotations.iloc[index, 1])\n",
        "    boxes = []\n",
        "    with open(label_path) as f:\n",
        "      for label in f.readlines():\n",
        "        class_label, x, y, width, height = [\n",
        "             float(x) if float(x) != int(float(x)) else int(x)\n",
        "             for x in label.replace(\"\\n\",\"\").split()                               \n",
        "        ]\n",
        "\n",
        "        boxes.append([class_label, x, y, width, height])\n",
        "\n",
        "    img_path = os.path.join(self.img_dir, self.annotations.iloc[index, 0])\n",
        "    image = Image.open(img_path)\n",
        "    boxes = torch.Tensor(boxes)\n",
        "\n",
        "    if self.transform:\n",
        "      image, boxes = self.transform(image, boxes)\n",
        "\n",
        "    label_matrix = torch.zeros((self.S, self.S, self.C + 5*self.B))\n",
        "\n",
        "    for box in boxes:\n",
        "      class_label, x, y, width, height = box.tolist()\n",
        "      class_label = int(class_label)\n",
        "      i, j = int(self.S * x), int(self.S * y)\n",
        "      x_cell, y_cell = self.S * x - i, self.S * y - j\n",
        "      width_cell, height_cell = (\n",
        "          width * self.S,\n",
        "          height *self.S,\n",
        "      )\n",
        "\n",
        "      if label_matrix[i, j, 20] == 0:\n",
        "        label_matrix[i, j, 20] = 1 \n",
        "        box_coordinates = torch.Tensor(\n",
        "            [x_cell, y_cell, width_cell, height_cell]\n",
        "        )\n",
        "        label_matrix[i,j, 21:25] = box_coordinates\n",
        "        label_matrix[i,j, class_label] = 1\n",
        "\n",
        "      return image, label_matrix\n",
        "\n"
      ],
      "metadata": {
        "id": "g4voEfVXEb_8"
      },
      "execution_count": 8,
      "outputs": []
    },
    {
      "cell_type": "markdown",
      "source": [
        "# **Utility Funtions**"
      ],
      "metadata": {
        "id": "jTvq210izB4H"
      }
    },
    {
      "cell_type": "code",
      "source": [
        "def intersection_over_union(boxes_preds, boxes_labels, box_format = \"midpoint\"):\n",
        "\n",
        "  if box_format == \"midpoint\":\n",
        "    box1_x1 = boxes_pred[..., 0:1] - boxes_pred[..., 2:3]/2\n",
        "    box1_y1 = boxes_pred[..., 1:2] - boxes_pred[..., 3:4]/2\n",
        "    box1_x2 = boxes_pred[..., 0:1] + boxes_pred[..., 2:3]/2\n",
        "    box1_y2 = boxes_pred[..., 1:2] + boxes_pred[..., 3:4]/2\n",
        "    box2_x1 = boxes_labels[..., 0:1] - boxes_labels[..., 2:4]/2\n",
        "    box2_y1 = boxes_labels[..., 1:2] - boxes_labels[..., 3:4]/2\n",
        "    box2_x2 = boxes_labels[..., 0:1] + boxes_labels[..., 2:3]/2\n",
        "    box2_y2 = boxes_labesl[..., 1:2] + boxes_labels[..., 3:4]/2\n",
        "\n",
        "  elif box_format == \"corners\":\n",
        "    box1_x1 = boxes_pred[..., 0:1]\n",
        "    box1_y1 = boxes_pred[..., 1:2]\n",
        "    box1_x2 = boxes_pred[..., 2:3]\n",
        "    box1_y2 = boxes_pred[..., 3:4]\n",
        "    box2_x1 = boxes_labels[..., 0:1]\n",
        "    box2_y1 = boxes_labels[..., 1:2]\n",
        "    box2_x2 = boxes_labels[..., 2:3]\n",
        "    box2_y2 = boxes_labesl[..., 3:4]\n",
        "\n",
        "  x1 = torch.max(box1_x1, box2_x1)\n",
        "  y1 = torch.max(box1_y1, box2_y1)\n",
        "  x2 = torch.min(box1_x2, box2_x2)\n",
        "  y2 = torch.min(box1_y2, box2_y2)\n",
        "\n",
        "  intersection = (x2 - x1).clamp(0) * (y2 - y1).clamp(0)\n",
        "\n",
        "  box1_area = abs((box1_x2 - box1_x1) * (box1_y2 - box1_y1))\n",
        "  box2_area = abs((box2_x2 - box2_x1) * (box2_y2 - box2_y1))\n",
        "\n",
        "  union  = box1_area + box2_area -intersection\n",
        "\n",
        "  return intersection/(union + 1e-6)"
      ],
      "metadata": {
        "id": "UboDOrZVzAPQ"
      },
      "execution_count": 9,
      "outputs": []
    },
    {
      "cell_type": "code",
      "source": [
        "def non_max_supression(\n",
        "    bboxes,\n",
        "    iou_threshold,\n",
        "    prob_threshold,\n",
        "    box_format = \"corners\"\n",
        "                      ):\n",
        "  \n",
        "  assert type(bboxes) == list\n",
        "\n",
        "  bboxes = [box for box in bboxes if box[1] > prob_threshold]\n",
        "  bboxes = sorted(bboxes, key=lambda x : x[1], reverse = True)\n",
        "  bboxes_aft_nms = []\n",
        "\n",
        "  while bboxes:\n",
        "    chosen_box - bboxes.pop(0)\n",
        "\n",
        "    bboxes = [\n",
        "              box for box in bboxes\n",
        "              if box[0] != chosen_box[0]\n",
        "              or intersection_over_union(\n",
        "                  torch.Tensor(chosen_box[2:]),\n",
        "                  torch.Tensor(box[2:]),\n",
        "                  box_format = box_format\n",
        "              ) < iou_threshold\n",
        "    ]\n",
        "\n",
        "    bboxes_aft_nms.append(chosen_box)\n",
        "\n",
        "  return bboxes_aft_nms"
      ],
      "metadata": {
        "id": "vzIZ0nfZ9Hy2"
      },
      "execution_count": 11,
      "outputs": []
    },
    {
      "cell_type": "code",
      "source": [
        ""
      ],
      "metadata": {
        "id": "ge8FnQWWdu4v"
      },
      "execution_count": null,
      "outputs": []
    }
  ]
}