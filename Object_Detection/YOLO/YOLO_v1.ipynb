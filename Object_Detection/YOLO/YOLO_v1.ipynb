{
  "nbformat": 4,
  "nbformat_minor": 0,
  "metadata": {
    "colab": {
      "name": "YOLO v1.ipynb",
      "provenance": [],
      "authorship_tag": "ABX9TyPO5/YorIo2gYN9jVOmJx/5",
      "include_colab_link": true
    },
    "kernelspec": {
      "name": "python3",
      "display_name": "Python 3"
    },
    "language_info": {
      "name": "python"
    }
  },
  "cells": [
    {
      "cell_type": "markdown",
      "metadata": {
        "id": "view-in-github",
        "colab_type": "text"
      },
      "source": [
        "<a href=\"https://colab.research.google.com/github/adnan119/Pytorch-Projects/blob/main/Object_Detection/YOLO/YOLO_v1.ipynb\" target=\"_parent\"><img src=\"https://colab.research.google.com/assets/colab-badge.svg\" alt=\"Open In Colab\"/></a>"
      ]
    },
    {
      "cell_type": "code",
      "execution_count": 45,
      "metadata": {
        "id": "xYgNKDF_xdeU"
      },
      "outputs": [],
      "source": [
        "import torch\n",
        "import torch.nn as nn"
      ]
    },
    {
      "cell_type": "code",
      "source": [
        "architecture_config = [\n",
        "                       #format: (kernel_size, num_filters, stride, padding)\n",
        "                       (7, 64, 2, 3),\n",
        "                       \"M\",\n",
        "                       (3, 192, 1, 1),\n",
        "                       \"M\",\n",
        "                       (3, 128, 1, 0),\n",
        "                       (1, 256, 1, 1),\n",
        "                       (3, 256, 1, 0),\n",
        "                       (1, 512, 1, 1),\n",
        "                       \"M\",\n",
        "                       [(1, 256, 1, 0),(3, 512, 1, 1), 4], # 4 = no. of times these two tuples should be repeated\n",
        "                       (1, 512, 1, 0),\n",
        "                       (3, 1024, 1, 1),\n",
        "                       \"M\",\n",
        "                       [(1, 512, 1, 0), (3, 1024, 1, 1), 2],\n",
        "                       (3, 1024, 1, 1),\n",
        "                       (3, 1024, 2, 1),\n",
        "                       (3, 1024, 1, 1),\n",
        "                       (3, 1024, 1, 1),\n",
        "]"
      ],
      "metadata": {
        "id": "XV6JS0hf2E-c"
      },
      "execution_count": 46,
      "outputs": []
    },
    {
      "cell_type": "code",
      "source": [
        "class CNNBlock(nn.Module):\n",
        "  def __init__(self, in_channels, out_channels, **kwargs):\n",
        "    super(CNNBlock, self).__init__()\n",
        "    self.conv = nn.Conv2d(in_channels, out_channels, bias = False, **kwargs)\n",
        "    self.batchnorm = nn.BatchNorm2d(out_channels)\n",
        "    self.leakyrelu = nn.LeakyReLU(0.1)\n",
        "\n",
        "  def forward(self, x):\n",
        "    return self.leakyrelu(self.batchnorm(self.conv(x)))"
      ],
      "metadata": {
        "id": "TrKwmuBX5C0p"
      },
      "execution_count": 47,
      "outputs": []
    },
    {
      "cell_type": "code",
      "source": [
        "class yolov1(nn.Module):\n",
        "  def __init__(self, in_channels=3, **kwargs):\n",
        "    super(yolov1, self).__init__()\n",
        "    self.architecture = architecture_config\n",
        "    self.in_channels = in_channels\n",
        "    self.darknet = self._create_conv_layers(self.architecture)\n",
        "    self.fcs = self._create_fcs(**kwargs)\n",
        "\n",
        "  def forward(self, x):\n",
        "    x = self.darknet(x)\n",
        "    return self.fcs(torch.flatten(x, start_dim=1))\n",
        "\n",
        "  def _create_conv_layers(self, architecture):\n",
        "    layers = []\n",
        "    in_channels = self.in_channels\n",
        "\n",
        "    for x in architecture:\n",
        "      if type(x) == tuple:\n",
        "        layers += [\n",
        "                   CNNBlock(in_channels, \n",
        "                            x[1], \n",
        "                            kernel_size = x[0], \n",
        "                            stride = x[2], \n",
        "                            padding = x[3])\n",
        "                  ]\n",
        "        in_channels = x[1]\n",
        "\n",
        "      elif type(x) == str:\n",
        "        layers += [nn.MaxPool2d(kernel_size=2, stride = 2)]\n",
        "      elif type(x) == list:\n",
        "        conv_1 = x[0]\n",
        "        conv_2 = x[1]\n",
        "        num_repeats = x[2]\n",
        "\n",
        "        for i in range(num_repeats):\n",
        "          layers += [\n",
        "                     CNNBlock(in_channels,\n",
        "                              conv_1[1],\n",
        "                              kernel_size = conv_1[0],\n",
        "                              stride = conv_1[2],\n",
        "                              padding = conv_1[3]),\n",
        "                     CNNBlock(conv_1[1],\n",
        "                              conv_2[1],\n",
        "                              kernel_size = conv_2[0],\n",
        "                              stride = conv_2[2],\n",
        "                              padding = conv_2[3])\n",
        "          ]\n",
        "\n",
        "          in_channels = conv_2[1]\n",
        "    return nn.Sequential(*layers)\n",
        "\n",
        "  def _create_fcs(self, split_size, num_boxes, num_classes):\n",
        "    S, B, C = split_size, num_boxes, num_classes\n",
        "    return nn.Sequential(\n",
        "        nn.Flatten(),\n",
        "        nn.Linear(1024 * S * S, 512),\n",
        "        nn.Dropout(0.0),\n",
        "        nn.LeakyReLU(0.1),\n",
        "        nn.Linear(512, S * S *(C + B * 5)),\n",
        "    )"
      ],
      "metadata": {
        "id": "2BGHU1bcwW2t"
      },
      "execution_count": 48,
      "outputs": []
    },
    {
      "cell_type": "code",
      "source": [
        "def test(S = 7, B = 2, C = 20):\n",
        "  model = yolov1(split_size = S, num_boxes = B, num_classes = C)\n",
        "  x = torch.randn((2, 3, 448, 448))\n",
        "  print(model(x).shape)"
      ],
      "metadata": {
        "id": "sq-ExhSo6EEt"
      },
      "execution_count": 49,
      "outputs": []
    },
    {
      "cell_type": "code",
      "source": [
        "test()"
      ],
      "metadata": {
        "colab": {
          "base_uri": "https://localhost:8080/"
        },
        "id": "TMKNJIVWhpKO",
        "outputId": "9de0553b-3709-4050-a641-427280e4e18f"
      },
      "execution_count": 50,
      "outputs": [
        {
          "output_type": "stream",
          "name": "stdout",
          "text": [
            "torch.Size([2, 1470])\n"
          ]
        }
      ]
    },
    {
      "cell_type": "code",
      "source": [
        "class yololoss(nn.Module):\n",
        "  def __init__(self, S = 7, B = 2, C = 20):\n",
        "    super(yololoss, self).__init__()\n",
        "    self.S = S\n",
        "    self.B = B\n",
        "    self.C = C\n",
        "    self.lambda_coord = 5\n",
        "    self.lambda_noobj = 0.5\n",
        "\n",
        "  def forward(self, prediction, target):\n",
        "    prediction = prediction.reshape(-1, self.S, self.S, self.C + self.B*5)\n",
        "\n",
        "    iou_b1 = intersection_over_union(prediction[...,21:25], target[...,21:25])\n",
        "    iou_b2 = intersection_over_union(prediction[...,26:30], target[...,21:25])\n",
        "\n",
        "    ious = torch.cat([iou_b1.unsqueeze(0),iou_b2.unsqueeze(0)], dim =0)\n",
        "    iou_maxes, best_box = torch.max(ious, dim=0)\n",
        "    exists_box = target[..., 20].unsqueeze(3) #Iobj_i\n",
        " \n",
        "    ####  BOX LOSS  ####\n",
        "    #Box-Coordinates (mid-point, width & height)\n",
        "    box_predictions = exists_box * (\n",
        "        (\n",
        "            best_box * prediction[...,26:30]\n",
        "            + (1 - best_box) * prediction[...,21:25]\n",
        "        )\n",
        "    )\n",
        "\n",
        "    box_targets = exists_box * target[...,21:25]\n",
        "\n",
        "    box_predictions[..., 2:4] = torch.sign(box_predictions[..., 2:4]) * torch.sqrt(\n",
        "        torch.abs(box_predictions[..., 2:4] + 1e-6)\n",
        "    )\n",
        "    \n",
        "    #box dimensions: (N, S, S, 25)\n",
        "    box_targets[..., 2:4] = torch.sqrt(box_targets[..., 2:4])\n",
        "    #(N, S, S, 4) -> (N*S*S, 4)\n",
        "    box_loss = self.mse(torch.flatten(box_predictions, end_dim=-2),\n",
        "                        torch.flatten(box_targets, end_dim=-2),\n",
        "                        )\n",
        "    \n",
        "    #### OBJECT LOSS ####\n",
        "    pred_box = (\n",
        "        best_box * prediction[..., 25:26] + (1 - best_box) * prediction[...,20:21]\n",
        "    )\n",
        "    # (N,S,S,1) -> (N*S*S*1)\n",
        "    object_loss = self.mse(\n",
        "        torch.flatten(exists_box * pred_box),\n",
        "        torch.flatten(exists_box * target[...,20:21])\n",
        "    )\n",
        "\n",
        "    #### NO-OBJECT LOSS ####\n",
        "    #(N, S, S, 1) -> (N, S*S*1)\n",
        "    no_object_loss = self.mse(\n",
        "        torch.flatten((1 - exists_box) * prediction[..., 20:21], start_dim=1),\n",
        "        torch.flatten((1 - exists_box) * target[..., 20:21], start_dim=1),\n",
        "    )\n",
        "\n",
        "    no_object_loss = self.mse(\n",
        "        torch.flatten((1 - exists_box) * prediction[..., 25:26], start_dim=1),\n",
        "        torch.flatten((1 - exists_box) * target[..., 20:21], start_dim=1),\n",
        "    )\n",
        "\n",
        "    class_loss = self.mse(\n",
        "        torch.flatten(exists_box * prediction[...,:20], end_dim = -2),\n",
        "        torch.flatten(exists_box * target[...,:20], end_dim = -2)\n",
        "    )\n",
        "\n",
        "    loss = (\n",
        "        self.lambda_coord * box_loss \n",
        "        + object_loss\n",
        "        + self.lambda_noobj * no_object_loss\n",
        "        + class_loss\n",
        "    )\n",
        "\n",
        "    return loss"
      ],
      "metadata": {
        "id": "FTRGQE8Yhu0X"
      },
      "execution_count": 51,
      "outputs": []
    },
    {
      "cell_type": "code",
      "source": [
        ""
      ],
      "metadata": {
        "id": "g4voEfVXEb_8"
      },
      "execution_count": null,
      "outputs": []
    }
  ]
}