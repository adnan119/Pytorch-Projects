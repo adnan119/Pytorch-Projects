{
  "nbformat": 4,
  "nbformat_minor": 0,
  "metadata": {
    "colab": {
      "name": "VGG16.ipynb",
      "provenance": [],
      "authorship_tag": "ABX9TyMSRqNVYPWt4f0dE5wbVpnW",
      "include_colab_link": true
    },
    "kernelspec": {
      "name": "python3",
      "display_name": "Python 3"
    },
    "language_info": {
      "name": "python"
    }
  },
  "cells": [
    {
      "cell_type": "markdown",
      "metadata": {
        "id": "view-in-github",
        "colab_type": "text"
      },
      "source": [
        "<a href=\"https://colab.research.google.com/github/adnan119/neural-network-architectures-in-pytorch/blob/main/VGG16.ipynb\" target=\"_parent\"><img src=\"https://colab.research.google.com/assets/colab-badge.svg\" alt=\"Open In Colab\"/></a>"
      ]
    },
    {
      "cell_type": "markdown",
      "metadata": {
        "id": "HbMkPlapf4JL"
      },
      "source": [
        "# **VGG16 in PyTorch**"
      ]
    },
    {
      "cell_type": "code",
      "metadata": {
        "id": "7cgDEiCbfzo-"
      },
      "source": [
        "import torch\n",
        "import torch.nn as nn # neural networks modules\n",
        "import torch.optim as optim # all optimization algorithms\n",
        "import torch.nn.functional as F # functional module for non-parametric operations\n",
        "import torchvision.datasets as datasets\n",
        "import torchvision.transforms as transforms \n",
        "from torch.utils.data import DataLoader"
      ],
      "execution_count": 2,
      "outputs": []
    },
    {
      "cell_type": "markdown",
      "metadata": {
        "id": "-3UCZ4zchWWy"
      },
      "source": [
        "In PyTorch you define your Models as subclasses of torch.nn.Module.\n",
        "\n",
        "In the __init__ function, you are supposed to initialize the layers you want to use. Unlike keras, Pytorch goes more low level and you have to specify the sizes of your network so that everything matches.\n",
        "\n",
        "In the forward method, you specify the connections of your layers. This means that you will use the layers you already initialized, in order to re-use the same layer for each forward pass of data you make.\n",
        "\n",
        "torch.nn.Functional contains some useful functions like activation functions a convolution operations you can use. However, these are not full layers so if you want to specify a layer of any kind you should use torch.nn.Module.\n",
        "\n",
        "You would use the torch.nn.Functional conv operations to define a custom layer for example with a convolution operation, but not to define a standard convolution layer."
      ]
    },
    {
      "cell_type": "code",
      "metadata": {
        "id": "FE4YMOCkhXy8"
      },
      "source": [
        "# vgg architecture\n",
        "VGG16 = [64,\n",
        "         64,\n",
        "         'MAX',\n",
        "         128,\n",
        "         128,\n",
        "         'MAX',\n",
        "         256,\n",
        "         256,\n",
        "         256,\n",
        "         'MAX',\n",
        "         512,\n",
        "         512,\n",
        "         512,\n",
        "         'MAX',\n",
        "         512,\n",
        "         512,\n",
        "         512,\n",
        "         'MAX']"
      ],
      "execution_count": 4,
      "outputs": []
    },
    {
      "cell_type": "code",
      "metadata": {
        "id": "4RNwVjhWkTQl"
      },
      "source": [
        "class vgg16_net(nn.Module):\n",
        "  def __init__(self, in_channels, num_classes):\n",
        "    super(vgg16_net,self).__init__()"
      ],
      "execution_count": null,
      "outputs": []
    }
  ]
}